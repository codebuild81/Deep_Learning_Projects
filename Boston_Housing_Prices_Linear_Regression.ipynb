{
  "nbformat": 4,
  "nbformat_minor": 0,
  "metadata": {
    "colab": {
      "name": "2a. Boston_Housing_Prices_Linear_Regression.ipynb",
      "version": "0.3.2",
      "provenance": [],
      "private_outputs": true,
      "collapsed_sections": []
    },
    "kernelspec": {
      "display_name": "Python 3",
      "language": "python",
      "name": "python3"
    }
  },
  "cells": [
    {
      "metadata": {
        "id": "-j-kOYoictSS",
        "colab_type": "text"
      },
      "cell_type": "markdown",
      "source": [
        "## Linear Regression Model for Boston Housing Prices"
      ]
    },
    {
      "metadata": {
        "id": "3IUofLh9ctST",
        "colab_type": "code",
        "colab": {}
      },
      "cell_type": "code",
      "source": [
        "import tensorflow as tf\n",
        "import numpy as np"
      ],
      "execution_count": 0,
      "outputs": []
    },
    {
      "metadata": {
        "id": "eNhFJvUSctSY",
        "colab_type": "text"
      },
      "cell_type": "markdown",
      "source": [
        "Reset Default graph - Needed only for Jupyter notebook"
      ]
    },
    {
      "metadata": {
        "id": "k8JVQBjkctSZ",
        "colab_type": "code",
        "colab": {}
      },
      "cell_type": "code",
      "source": [
        "tf.reset_default_graph()"
      ],
      "execution_count": 0,
      "outputs": []
    },
    {
      "metadata": {
        "id": "U7BwWolqctSd",
        "colab_type": "text"
      },
      "cell_type": "markdown",
      "source": [
        "### Load Data\n",
        "Use Boston housing prices data available in tensorflow"
      ]
    },
    {
      "metadata": {
        "id": "WNfRIVcbctSf",
        "colab_type": "code",
        "colab": {}
      },
      "cell_type": "code",
      "source": [
        "from tensorflow.contrib.learn import datasets\n",
        "boston = datasets.load_dataset('boston')\n",
        "\n",
        "#Input features\n",
        "features = np.array(boston.data)\n",
        "\n",
        "#Actual output\n",
        "prices = np.array(boston.target)\n",
        "\n",
        "prices = np.reshape(prices,(prices.shape[0],1))"
      ],
      "execution_count": 0,
      "outputs": []
    },
    {
      "metadata": {
        "id": "adHKP6anZ9NM",
        "colab_type": "code",
        "colab": {}
      },
      "cell_type": "code",
      "source": [
        "print('Input features shape: ', features.shape)\n",
        "print('Actual Prices data shape: ', prices.shape)"
      ],
      "execution_count": 0,
      "outputs": []
    },
    {
      "metadata": {
        "id": "MWP_yrwuctSw",
        "colab_type": "text"
      },
      "cell_type": "markdown",
      "source": [
        "How many examples do we have?"
      ]
    },
    {
      "metadata": {
        "id": "z9_CySCVctS2",
        "colab_type": "text"
      },
      "cell_type": "markdown",
      "source": [
        "### Building the Graph"
      ]
    },
    {
      "metadata": {
        "id": "-M9_lQALctS3",
        "colab_type": "text"
      },
      "cell_type": "markdown",
      "source": [
        "Define input data placeholders as actual data will be provided at run time"
      ]
    },
    {
      "metadata": {
        "id": "Au1NqolPctS3",
        "colab_type": "code",
        "colab": {}
      },
      "cell_type": "code",
      "source": [
        "#Input features placeholder\n",
        "x = tf.placeholder(shape=[None,features.shape[1]],dtype=tf.float32, name='x-input')\n",
        "\n",
        "#Actual Price placeholder\n",
        "y_ = tf.placeholder(shape=[None,prices.shape[1]],dtype=tf.float32, name='y-input')"
      ],
      "execution_count": 0,
      "outputs": []
    },
    {
      "metadata": {
        "id": "cWeZXWBectS7",
        "colab_type": "text"
      },
      "cell_type": "markdown",
      "source": [
        "Define Weights and Bias"
      ]
    },
    {
      "metadata": {
        "id": "Px9_nxjMctS7",
        "colab_type": "code",
        "colab": {}
      },
      "cell_type": "code",
      "source": [
        "W = tf.Variable(tf.zeros(shape=[features.shape[1],1]), name=\"Weights\")\n",
        "b = tf.Variable(tf.zeros(shape=[1]),name=\"Bias\")"
      ],
      "execution_count": 0,
      "outputs": []
    },
    {
      "metadata": {
        "id": "YR304QL5ctS_",
        "colab_type": "text"
      },
      "cell_type": "markdown",
      "source": [
        "Prediction"
      ]
    },
    {
      "metadata": {
        "id": "23L246UfctS_",
        "colab_type": "code",
        "colab": {}
      },
      "cell_type": "code",
      "source": [
        "#y = xW + b\n",
        "y = tf.add(tf.matmul(x,W),b,name='output')"
      ],
      "execution_count": 0,
      "outputs": []
    },
    {
      "metadata": {
        "id": "YHV5Aj-2ctTD",
        "colab_type": "text"
      },
      "cell_type": "markdown",
      "source": [
        "Loss (Cost) Function"
      ]
    },
    {
      "metadata": {
        "id": "kzi904WXctTF",
        "colab_type": "code",
        "colab": {}
      },
      "cell_type": "code",
      "source": [
        "#Mean Suared error\n",
        "loss = tf.reduce_mean(tf.square(y-y_),name='Loss')"
      ],
      "execution_count": 0,
      "outputs": []
    },
    {
      "metadata": {
        "id": "y6gWDL8QctTJ",
        "colab_type": "text"
      },
      "cell_type": "markdown",
      "source": [
        "GradientDescent Optimizer to minimize Loss"
      ]
    },
    {
      "metadata": {
        "id": "cbj6hRSEctTK",
        "colab_type": "code",
        "colab": {}
      },
      "cell_type": "code",
      "source": [
        "learn_rate = 0.03 #Can try different rates\n",
        "train_op = tf.train.GradientDescentOptimizer(learn_rate).minimize(loss)"
      ],
      "execution_count": 0,
      "outputs": []
    },
    {
      "metadata": {
        "id": "SXWzDFYActTM",
        "colab_type": "text"
      },
      "cell_type": "markdown",
      "source": [
        "*How do I define Learning Rate?*"
      ]
    },
    {
      "metadata": {
        "id": "3OsLx8D0ctTN",
        "colab_type": "text"
      },
      "cell_type": "markdown",
      "source": [
        "### Executing the Graph"
      ]
    },
    {
      "metadata": {
        "id": "_euGMYsKctTO",
        "colab_type": "code",
        "colab": {}
      },
      "cell_type": "code",
      "source": [
        "#Lets start graph Execution\n",
        "with tf.Session() as sess:\n",
        "  \n",
        "    # variables need to be initialized before we can use them\n",
        "    sess.run(tf.global_variables_initializer())\n",
        "    \n",
        "    #how many times data need to be shown to model\n",
        "    training_epochs = 1000  \n",
        "    \n",
        "    for epoch in range(training_epochs):\n",
        "        \n",
        "        #Calculate train_op and loss\n",
        "        _, train_loss = sess.run([train_op,loss], #Execute train_op and loss node\n",
        "                                 feed_dict={x:features, #Data for Input feature\n",
        "                                            y_:prices}) #Actual price data\n",
        "        \n",
        "        #Print the loss after every 100 iterations\n",
        "        if epoch % 100 == 0:\n",
        "            print ('Training loss at step: ', epoch, ' is ', train_loss)"
      ],
      "execution_count": 0,
      "outputs": []
    },
    {
      "metadata": {
        "id": "3_45Mb_KfpG0",
        "colab_type": "text"
      },
      "cell_type": "markdown",
      "source": [
        "*How do you explain the training loss?* "
      ]
    },
    {
      "metadata": {
        "id": "ThHqfuB6kOsi",
        "colab_type": "code",
        "colab": {}
      },
      "cell_type": "code",
      "source": [
        "#Print Max value for each Feature\n",
        "for num in np.max(features, axis=0):\n",
        "    print(num)"
      ],
      "execution_count": 0,
      "outputs": []
    }
  ]
}