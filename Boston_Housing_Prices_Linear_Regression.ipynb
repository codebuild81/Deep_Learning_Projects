{
  "nbformat": 4,
  "nbformat_minor": 0,
  "metadata": {
    "colab": {
      "name": "2a. Boston_Housing_Prices_Linear_Regression.ipynb",
      "version": "0.3.2",
      "provenance": [],
      "private_outputs": true,
      "collapsed_sections": []
    },
    "kernelspec": {
      "display_name": "Python 3",
      "language": "python",
      "name": "python3"
    }
  },
  "cells": [
    {
      "metadata": {
        "id": "-j-kOYoictSS",
        "colab_type": "text"
      },
      "cell_type": "markdown",
      "source": [
        "## Linear Regression Model for Boston Housing Prices"
      ]
    },
    {
      "metadata": {
        "id": "rNnIW3FQPFdj",
        "colab_type": "text"
      },
      "cell_type": "markdown",
      "source": [
        "Each record in the database describes a Boston suburb or town. The data was drawn from the Boston Standard Metropolitan Statistical Area (SMSA) in 1970. The attributes are deﬁned as follows (taken from the UCI Machine Learning Repository1): CRIM: per capita crime rate by town 2. ZN: proportion of residential land zoned for lots over 25,000 sq.ft. 3. INDUS: proportion of non-retail business acres per town 4. CHAS: Charles River dummy variable (= 1 if tract bounds river; 0 otherwise) 5. NOX: nitric oxides concentration (parts per 10 million) 1https://archive.ics.uci.edu/ml/datasets/Housing 123 20.2. Load the Dataset 124 6. RM: average number of rooms per dwelling 7. AGE: proportion of owner-occupied units built prior to 1940 8. DIS: weighted distances to ﬁve Boston employment centers 9. RAD: index of accessibility to radial highways 10. TAX: full-value property-tax rate per $10,000 11. PTRATIO: pupil-teacher ratio by town 12. B: 1000(Bk−0.63)2 where Bk is the proportion of blacks by town 13. LSTAT: % lower status of the population 14. MEDV: Median value of owner-occupied homes in $1000s We can see that the input attributes have a mixture of units."
      ]
    },
    {
      "metadata": {
        "id": "3IUofLh9ctST",
        "colab_type": "code",
        "colab": {}
      },
      "cell_type": "code",
      "source": [
        "import tensorflow as tf\n",
        "import numpy as np"
      ],
      "execution_count": 0,
      "outputs": []
    },
    {
      "metadata": {
        "id": "eNhFJvUSctSY",
        "colab_type": "text"
      },
      "cell_type": "markdown",
      "source": [
        "Reset Default graph - Needed only for Jupyter notebook"
      ]
    },
    {
      "metadata": {
        "id": "k8JVQBjkctSZ",
        "colab_type": "code",
        "colab": {}
      },
      "cell_type": "code",
      "source": [
        "tf.reset_default_graph()"
      ],
      "execution_count": 0,
      "outputs": []
    },
    {
      "metadata": {
        "id": "l3AwezFLcGqv",
        "colab_type": "text"
      },
      "cell_type": "markdown",
      "source": [
        "### Load Data\n",
        "Use Boston housing prices data available"
      ]
    },
    {
      "metadata": {
        "id": "wK9gBoLER-6H",
        "colab_type": "code",
        "colab": {}
      },
      "cell_type": "code",
      "source": [
        "import pandas as pd\n",
        "url = 'https://raw.githubusercontent.com/codebuild81/Deep_Learning_Projects/master/housing.csv'\n",
        "\n"
      ],
      "execution_count": 0,
      "outputs": []
    },
    {
      "metadata": {
        "id": "2h6mSz58Ow4v",
        "colab_type": "code",
        "colab": {}
      },
      "cell_type": "code",
      "source": [
        "names = ['CRIM', 'ZN', 'INDUS', 'CHAS', 'NOX', 'RM', 'AGE', 'DIS', 'RAD', 'TAX', 'PTRATIO', 'B', 'LSTAT', 'MEDV']\n"
      ],
      "execution_count": 0,
      "outputs": []
    },
    {
      "metadata": {
        "id": "xmWgaL7xcyVd",
        "colab_type": "text"
      },
      "cell_type": "markdown",
      "source": [
        ""
      ]
    },
    {
      "metadata": {
        "id": "eDeU_Q6YPVBB",
        "colab_type": "code",
        "colab": {}
      },
      "cell_type": "code",
      "source": [
        "#boston = pd.read_csv(url, sep = '\\s+', names=names)\n",
        "boston = pd.read_csv(url, delim_whitespace=True, names=names)"
      ],
      "execution_count": 0,
      "outputs": []
    },
    {
      "metadata": {
        "id": "UfzjK66DSkFs",
        "colab_type": "code",
        "colab": {}
      },
      "cell_type": "code",
      "source": [
        "boston.head()"
      ],
      "execution_count": 0,
      "outputs": []
    },
    {
      "metadata": {
        "id": "rl9dESKZRiWy",
        "colab_type": "code",
        "colab": {}
      },
      "cell_type": "code",
      "source": [
        "boston.describe()"
      ],
      "execution_count": 0,
      "outputs": []
    },
    {
      "metadata": {
        "id": "G3qgIUNoR7Yi",
        "colab_type": "code",
        "colab": {}
      },
      "cell_type": "code",
      "source": [
        "#Input feature columns\n",
        "features_col = [x for x in list(boston.columns) if x != 'MEDV']\n",
        "features_col"
      ],
      "execution_count": 0,
      "outputs": []
    },
    {
      "metadata": {
        "id": "69fffu-oXyRg",
        "colab_type": "code",
        "colab": {}
      },
      "cell_type": "code",
      "source": [
        "#Input feature dataset, #create a Pandas data frame for independent\n",
        "features = boston[features_col]\n",
        "features.head()"
      ],
      "execution_count": 0,
      "outputs": []
    },
    {
      "metadata": {
        "id": "92HIpB8iYR5i",
        "colab_type": "code",
        "colab": {}
      },
      "cell_type": "code",
      "source": [
        "#Actual output, #create a Pandas data frame for dependent variables\n",
        "prices = boston['MEDV']\n",
        "prices.head()"
      ],
      "execution_count": 0,
      "outputs": []
    },
    {
      "metadata": {
        "id": "rnKXj-ww6K3m",
        "colab_type": "code",
        "colab": {}
      },
      "cell_type": "code",
      "source": [
        "prices = np.reshape(prices,(prices.shape[0],1))"
      ],
      "execution_count": 0,
      "outputs": []
    },
    {
      "metadata": {
        "id": "jouC0YNYbo4_",
        "colab_type": "code",
        "colab": {}
      },
      "cell_type": "code",
      "source": [
        "\n",
        "print('Input features shape: ', features.shape)\n",
        "print('Actual Prices data shape: ', prices.shape)"
      ],
      "execution_count": 0,
      "outputs": []
    },
    {
      "metadata": {
        "id": "Z1JOaTcM7BKb",
        "colab_type": "code",
        "colab": {}
      },
      "cell_type": "code",
      "source": [
        "features.shape[1]"
      ],
      "execution_count": 0,
      "outputs": []
    },
    {
      "metadata": {
        "id": "YossHVMZdHbm",
        "colab_type": "text"
      },
      "cell_type": "markdown",
      "source": [
        "### Building the Graph"
      ]
    },
    {
      "metadata": {
        "id": "cV4Noa6JdKPy",
        "colab_type": "text"
      },
      "cell_type": "markdown",
      "source": [
        "Define input data placeholders as actual data will be provided at run time.."
      ]
    },
    {
      "metadata": {
        "id": "B_4Vrj9rdX9-",
        "colab_type": "code",
        "colab": {}
      },
      "cell_type": "code",
      "source": [
        "#Input features placeholder\n",
        "x = tf.placeholder(shape=[None,features.shape[1]],dtype=tf.float32, name='x-input')\n",
        "\n",
        "#Actual Price placeholder\n",
        "y_ = tf.placeholder(shape=[None,prices.shape[1]],dtype=tf.float32, name='y-input')"
      ],
      "execution_count": 0,
      "outputs": []
    },
    {
      "metadata": {
        "id": "Px8_9zsH7suR",
        "colab_type": "text"
      },
      "cell_type": "markdown",
      "source": [
        "Define Weights and Bias"
      ]
    },
    {
      "metadata": {
        "id": "I9T2qey97ubi",
        "colab_type": "code",
        "colab": {}
      },
      "cell_type": "code",
      "source": [
        "W = tf.Variable(tf.zeros(shape=[features.shape[1],1]), name=\"Weights\")\n",
        "b = tf.Variable(tf.zeros(shape=[1]),name=\"Bias\")"
      ],
      "execution_count": 0,
      "outputs": []
    },
    {
      "metadata": {
        "id": "QZu5EoqM8bQ2",
        "colab_type": "text"
      },
      "cell_type": "markdown",
      "source": [
        "Prediction"
      ]
    },
    {
      "metadata": {
        "id": "b48q_aNI8R0A",
        "colab_type": "code",
        "colab": {}
      },
      "cell_type": "code",
      "source": [
        "#y = xW + b\n",
        "y = tf.add(tf.matmul(x,W),b,name='output')"
      ],
      "execution_count": 0,
      "outputs": []
    },
    {
      "metadata": {
        "id": "Wph8kABl85xh",
        "colab_type": "text"
      },
      "cell_type": "markdown",
      "source": [
        "Loss (Cost) Function"
      ]
    },
    {
      "metadata": {
        "id": "d1ydGtyD8wDm",
        "colab_type": "code",
        "colab": {}
      },
      "cell_type": "code",
      "source": [
        "#Mean Suared error\n",
        "loss = tf.reduce_mean(tf.square(y-y_),name='Loss')"
      ],
      "execution_count": 0,
      "outputs": []
    },
    {
      "metadata": {
        "id": "uERwRBVa9Mq_",
        "colab_type": "text"
      },
      "cell_type": "markdown",
      "source": [
        "GradientDescent Optimizer to minimize Loss"
      ]
    },
    {
      "metadata": {
        "id": "e0KbLnGh9Njc",
        "colab_type": "code",
        "colab": {}
      },
      "cell_type": "code",
      "source": [
        "learn_rate = 0.03 #Can try different rates\n",
        "train_op = tf.train.GradientDescentOptimizer(learn_rate).minimize(loss)"
      ],
      "execution_count": 0,
      "outputs": []
    },
    {
      "metadata": {
        "id": "H5PQxODA9XG6",
        "colab_type": "text"
      },
      "cell_type": "markdown",
      "source": [
        "###Executing the Graph"
      ]
    },
    {
      "metadata": {
        "id": "L9a7-8JS9XlE",
        "colab_type": "code",
        "colab": {}
      },
      "cell_type": "code",
      "source": [
        "#Lets start graph Execution\n",
        "with tf.Session() as sess:\n",
        "  \n",
        "    # variables need to be initialized before we can use them\n",
        "    sess.run(tf.global_variables_initializer())\n",
        "    \n",
        "    #how many times data need to be shown to model\n",
        "    training_epochs = 1000  \n",
        "    \n",
        "    for epoch in range(training_epochs):\n",
        "        \n",
        "        #Calculate train_op and loss\n",
        "        _, train_loss = sess.run([train_op,loss], #Execute train_op and loss node\n",
        "                                 feed_dict={x:features, #Data for Input feature\n",
        "                                            y_:prices}) #Actual price data\n",
        "        \n",
        "        #Print the loss after every 100 iterations\n",
        "        if epoch % 100 == 0:\n",
        "            print ('Training loss at step: ', epoch, ' is ', train_loss)"
      ],
      "execution_count": 0,
      "outputs": []
    },
    {
      "metadata": {
        "id": "Sx-VLHJF9vaw",
        "colab_type": "text"
      },
      "cell_type": "markdown",
      "source": [
        "How do you explain the training loss?"
      ]
    },
    {
      "metadata": {
        "id": "tMBean_Q9w70",
        "colab_type": "code",
        "colab": {}
      },
      "cell_type": "code",
      "source": [
        "#Print Max value for each Feature\n",
        "for num in np.max(features, axis=0):\n",
        "    print(num)"
      ],
      "execution_count": 0,
      "outputs": []
    },
    {
      "metadata": {
        "id": "FSqKZl9Y3697",
        "colab_type": "code",
        "colab": {}
      },
      "cell_type": "code",
      "source": [
        "#Assign session\n",
        "sess = tf.Session()"
      ],
      "execution_count": 0,
      "outputs": []
    },
    {
      "metadata": {
        "id": "Wk5W1YdIFOCH",
        "colab_type": "code",
        "colab": {}
      },
      "cell_type": "code",
      "source": [
        "#Close Session\n",
        "sess.close()\n"
      ],
      "execution_count": 0,
      "outputs": []
    },
    {
      "metadata": {
        "id": "DOyLzfDjV5C1",
        "colab_type": "text"
      },
      "cell_type": "markdown",
      "source": [
        "##Normalize the data & build Boston Housing Price Prediction"
      ]
    },
    {
      "metadata": {
        "id": "lvqyv46vVVuj",
        "colab_type": "code",
        "colab": {}
      },
      "cell_type": "code",
      "source": [
        "\n",
        "y = tf.add(tf.matmul(x_n,W),b,name='output')"
      ],
      "execution_count": 0,
      "outputs": []
    },
    {
      "metadata": {
        "id": "uXIw3GGGGB6s",
        "colab_type": "code",
        "colab": {}
      },
      "cell_type": "code",
      "source": [
        "#Normalize the data, xi = (xi - mean)/(max - min)\n",
        "x_n = tf.nn.l2_normalize(features,1)"
      ],
      "execution_count": 0,
      "outputs": []
    },
    {
      "metadata": {
        "id": "oRgx7LkwVtjS",
        "colab_type": "code",
        "colab": {}
      },
      "cell_type": "code",
      "source": [
        "x_n = tf.placeholder(shape=[None,features.shape[1]],dtype=tf.float32, name='x-input')"
      ],
      "execution_count": 0,
      "outputs": []
    },
    {
      "metadata": {
        "id": "2BaUarE7E6sw",
        "colab_type": "code",
        "colab": {}
      },
      "cell_type": "code",
      "source": [
        "#Lets start graph Execution\n",
        "#After Normalize the data\n",
        "with tf.Session() as sess:\n",
        "  \n",
        "    # variables need to be initialized before we can use them\n",
        "    sess.run(tf.global_variables_initializer())\n",
        "    \n",
        "    #how many times data need to be shown to model\n",
        "    training_epochs = 100 \n",
        "    \n",
        "    for epoch in range(training_epochs):\n",
        "        \n",
        "        #Calculate train_op and loss\n",
        "        _, train_loss = sess.run([train_op,loss], #Execute train_op and loss node\n",
        "                                 feed_dict={x_n:features, #Data for Input feature\n",
        "                                            y_:prices}) #Actual price data\n",
        "        \n",
        "        #Print the loss after every 100 iterations\n",
        "        if epoch % 10 == 0:\n",
        "            print ('Training loss at step: ', epoch, ' is ', train_loss,_)"
      ],
      "execution_count": 0,
      "outputs": []
    }
  ]
}